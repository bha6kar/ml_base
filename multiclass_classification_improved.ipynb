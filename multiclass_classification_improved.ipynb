{
 "cells": [
  {
   "cell_type": "markdown",
   "id": "44eb2fad",
   "metadata": {},
   "source": [
    "# Multiclass Classification – Improved\n",
    "\n",
    "This notebook improves multiclass performance with:\n",
    "- Class balance checks and SMOTE oversampling\n",
    "- Multiple models: Logistic Regression, Random Forest, XGBoost\n",
    "- Hyperparameter tuning with GridSearchCV (F1-macro)\n",
    "- Clean evaluation (macro F1, report, confusion matrix)"
   ]
  },
  {
   "cell_type": "code",
   "execution_count": 1,
   "id": "9adffe85",
   "metadata": {},
   "outputs": [],
   "source": [
    "import pandas as pd\n",
    "import numpy as np\n",
    "import matplotlib.pyplot as plt\n",
    "\n",
    "from sklearn.model_selection import train_test_split, GridSearchCV\n",
    "from sklearn.preprocessing import OneHotEncoder\n",
    "from sklearn.compose import ColumnTransformer\n",
    "from sklearn.pipeline import Pipeline\n",
    "from sklearn.metrics import classification_report, confusion_matrix, f1_score\n",
    "from sklearn.linear_model import LogisticRegression\n",
    "from sklearn.ensemble import RandomForestClassifier\n",
    "from imblearn.over_sampling import SMOTE\n",
    "\n",
    "# XGBoost is optional; comment out if not installed\n",
    "try:\n",
    "    from xgboost import XGBClassifier\n",
    "    HAS_XGB = True\n",
    "except Exception as e:\n",
    "    print('XGBoost not available:', e)\n",
    "    HAS_XGB = False\n",
    "\n",
    "np.random.seed(42)"
   ]
  },
  {
   "cell_type": "code",
   "execution_count": 2,
   "id": "6912af9f",
   "metadata": {},
   "outputs": [
    {
     "name": "stdout",
     "output_type": "stream",
     "text": [
      "Saved CSV: multiclass_data_with_nulls.csv\n"
     ]
    },
    {
     "data": {
      "text/html": [
       "<div>\n",
       "<style scoped>\n",
       "    .dataframe tbody tr th:only-of-type {\n",
       "        vertical-align: middle;\n",
       "    }\n",
       "\n",
       "    .dataframe tbody tr th {\n",
       "        vertical-align: top;\n",
       "    }\n",
       "\n",
       "    .dataframe thead th {\n",
       "        text-align: right;\n",
       "    }\n",
       "</style>\n",
       "<table border=\"1\" class=\"dataframe\">\n",
       "  <thead>\n",
       "    <tr style=\"text-align: right;\">\n",
       "      <th></th>\n",
       "      <th>id</th>\n",
       "      <th>age</th>\n",
       "      <th>income</th>\n",
       "      <th>gender</th>\n",
       "      <th>region</th>\n",
       "      <th>purchases</th>\n",
       "      <th>segment</th>\n",
       "    </tr>\n",
       "  </thead>\n",
       "  <tbody>\n",
       "    <tr>\n",
       "      <th>0</th>\n",
       "      <td>1</td>\n",
       "      <td>56</td>\n",
       "      <td>63088.0</td>\n",
       "      <td>Male</td>\n",
       "      <td>East</td>\n",
       "      <td>6</td>\n",
       "      <td>1</td>\n",
       "    </tr>\n",
       "    <tr>\n",
       "      <th>1</th>\n",
       "      <td>2</td>\n",
       "      <td>69</td>\n",
       "      <td>59811.0</td>\n",
       "      <td>Male</td>\n",
       "      <td>North</td>\n",
       "      <td>5</td>\n",
       "      <td>1</td>\n",
       "    </tr>\n",
       "    <tr>\n",
       "      <th>2</th>\n",
       "      <td>3</td>\n",
       "      <td>46</td>\n",
       "      <td>75479.0</td>\n",
       "      <td>Female</td>\n",
       "      <td>East</td>\n",
       "      <td>3</td>\n",
       "      <td>1</td>\n",
       "    </tr>\n",
       "    <tr>\n",
       "      <th>3</th>\n",
       "      <td>4</td>\n",
       "      <td>32</td>\n",
       "      <td>105392.0</td>\n",
       "      <td>Female</td>\n",
       "      <td>West</td>\n",
       "      <td>2</td>\n",
       "      <td>2</td>\n",
       "    </tr>\n",
       "    <tr>\n",
       "      <th>4</th>\n",
       "      <td>5</td>\n",
       "      <td>60</td>\n",
       "      <td>107369.0</td>\n",
       "      <td>Male</td>\n",
       "      <td>South</td>\n",
       "      <td>6</td>\n",
       "      <td>2</td>\n",
       "    </tr>\n",
       "  </tbody>\n",
       "</table>\n",
       "</div>"
      ],
      "text/plain": [
       "   id  age    income  gender region  purchases  segment\n",
       "0   1   56   63088.0    Male   East          6        1\n",
       "1   2   69   59811.0    Male  North          5        1\n",
       "2   3   46   75479.0  Female   East          3        1\n",
       "3   4   32  105392.0  Female   West          2        2\n",
       "4   5   60  107369.0    Male  South          6        2"
      ]
     },
     "execution_count": 2,
     "metadata": {},
     "output_type": "execute_result"
    }
   ],
   "source": [
    "# Generate synthetic but *learnable* dataset\n",
    "n = 900\n",
    "age = np.random.randint(18, 70, n)\n",
    "income = np.random.randint(20000, 120000, n)\n",
    "gender = np.random.choice(['Male','Female'], n)\n",
    "region = np.random.choice(['North','South','East','West'], n)\n",
    "purchases = np.random.poisson(5, n)\n",
    "\n",
    "# Create a target with some relation to features to make learning possible\n",
    "# segment: 0,1,2\n",
    "logits = (\n",
    "    0.00003 * income\n",
    "    + 0.05 * (purchases)\n",
    "    + 0.02 * (age - age.mean())\n",
    "    + (gender == 'Female') * 0.2\n",
    ")\n",
    "# Map logits + region to 3 classes to create structure\n",
    "score = logits + np.select(\n",
    "    [\n",
    "        region == 'North',\n",
    "        region == 'South',\n",
    "        region == 'East',\n",
    "        region == 'West'\n",
    "    ],\n",
    "    [0.3, -0.2, 0.1, -0.1],\n",
    "    default=0.0\n",
    ")\n",
    "\n",
    "# Convert score into 3 classes by tertiles\n",
    "q1, q2 = np.quantile(score, [1/3, 2/3])\n",
    "segment = np.where(score < q1, 0, np.where(score < q2, 1, 2))\n",
    "\n",
    "df = pd.DataFrame({\n",
    "    'id': range(1, n+1),\n",
    "    'age': age,\n",
    "    'income': income,\n",
    "    'gender': gender,\n",
    "    'region': region,\n",
    "    'purchases': purchases,\n",
    "    'segment': segment\n",
    "})\n",
    "\n",
    "# Introduce some nulls\n",
    "for col in ['income','gender']:\n",
    "    idx = np.random.choice(df.index, size=int(0.07*n), replace=False)\n",
    "    df.loc[idx, col] = np.nan\n",
    "\n",
    "df.to_csv('multiclass_data_with_nulls.csv', index=False)\n",
    "print('Saved CSV: multiclass_data_with_nulls.csv')\n",
    "df.head()"
   ]
  },
  {
   "cell_type": "code",
   "execution_count": 3,
   "id": "96e0d1c3",
   "metadata": {},
   "outputs": [
    {
     "name": "stdout",
     "output_type": "stream",
     "text": [
      "Class distribution (segment):\n",
      "segment\n",
      "0    0.333333\n",
      "1    0.333333\n",
      "2    0.333333\n",
      "Name: proportion, dtype: float64\n"
     ]
    }
   ],
   "source": [
    "# Impute nulls (simple strategy)\n",
    "df['income'] = df['income'].fillna(df['income'].median())\n",
    "df['gender'] = df['gender'].fillna(df['gender'].mode()[0])\n",
    "\n",
    "# Quick check of class distribution\n",
    "print('Class distribution (segment):')\n",
    "print(df['segment'].value_counts(normalize=True).sort_index())"
   ]
  },
  {
   "cell_type": "code",
   "execution_count": 4,
   "id": "02bed287",
   "metadata": {},
   "outputs": [
    {
     "name": "stdout",
     "output_type": "stream",
     "text": [
      "Train size: (720, 5) Test size: (180, 5)\n"
     ]
    }
   ],
   "source": [
    "# Features / target\n",
    "X = df.drop(columns=['id','segment'])\n",
    "y = df['segment']\n",
    "\n",
    "# Train/test split (stratified)\n",
    "X_train, X_test, y_train, y_test = train_test_split(\n",
    "    X, y, test_size=0.2, random_state=42, stratify=y\n",
    ")\n",
    "\n",
    "print('Train size:', X_train.shape, 'Test size:', X_test.shape)"
   ]
  },
  {
   "cell_type": "code",
   "execution_count": 5,
   "id": "cb1f1161",
   "metadata": {},
   "outputs": [],
   "source": [
    "# Preprocessing: One-Hot Encode categoricals, pass through numerics\n",
    "categorical = ['gender','region']\n",
    "numeric = ['age','income','purchases']\n",
    "\n",
    "preprocessor = ColumnTransformer(\n",
    "    transformers=[\n",
    "        ('cat', OneHotEncoder(handle_unknown='ignore'), categorical),\n",
    "        ('num', 'passthrough', numeric)\n",
    "    ]\n",
    ")"
   ]
  },
  {
   "cell_type": "code",
   "execution_count": 6,
   "id": "87c716e0",
   "metadata": {},
   "outputs": [
    {
     "name": "stdout",
     "output_type": "stream",
     "text": [
      "After SMOTE class counts:\n",
      "segment\n",
      "2    240\n",
      "1    240\n",
      "0    240\n",
      "Name: count, dtype: int64\n"
     ]
    }
   ],
   "source": [
    "# Apply SMOTE on the preprocessed numeric-only arrays:\n",
    "# We need to transform X_train first to numeric space for SMOTE\n",
    "X_train_enc = preprocessor.fit_transform(X_train)\n",
    "X_test_enc = preprocessor.transform(X_test)\n",
    "\n",
    "smote = SMOTE(random_state=42)\n",
    "X_train_res, y_train_res = smote.fit_resample(X_train_enc, y_train)\n",
    "\n",
    "print('After SMOTE class counts:')\n",
    "print(pd.Series(y_train_res).value_counts())"
   ]
  },
  {
   "cell_type": "code",
   "execution_count": 7,
   "id": "75c9edc7",
   "metadata": {},
   "outputs": [],
   "source": [
    "def evaluate_model(name, model, X_te, y_te):\n",
    "    y_pred = model.predict(X_te)\n",
    "    macro_f1 = f1_score(y_te, y_pred, average='macro')\n",
    "    print(f'\\n=== {name} ===')\n",
    "    print('Macro F1:', round(macro_f1, 4))\n",
    "    print(classification_report(y_te, y_pred))\n",
    "    cm = confusion_matrix(y_te, y_pred)\n",
    "    # Plot confusion matrix with matplotlib only\n",
    "    fig = plt.figure(figsize=(5,4))\n",
    "    plt.imshow(cm)\n",
    "    plt.title(f'Confusion Matrix – {name}')\n",
    "    plt.xlabel('Predicted')\n",
    "    plt.ylabel('True')\n",
    "    for (i, j), val in np.ndenumerate(cm):\n",
    "        plt.text(j, i, str(val), ha='center', va='center')\n",
    "    plt.tight_layout()\n",
    "    plt.show()\n",
    "    return macro_f1"
   ]
  },
  {
   "cell_type": "code",
   "execution_count": 8,
   "id": "317530f8",
   "metadata": {},
   "outputs": [
    {
     "name": "stdout",
     "output_type": "stream",
     "text": [
      "\n",
      "=== Logistic Regression ===\n",
      "Macro F1: 0.845\n",
      "              precision    recall  f1-score   support\n",
      "\n",
      "           0       0.88      0.85      0.86        60\n",
      "           1       0.76      0.78      0.77        60\n",
      "           2       0.90      0.90      0.90        60\n",
      "\n",
      "    accuracy                           0.84       180\n",
      "   macro avg       0.85      0.84      0.84       180\n",
      "weighted avg       0.85      0.84      0.84       180\n",
      "\n"
     ]
    },
    {
     "name": "stderr",
     "output_type": "stream",
     "text": [
      "/Users/206793281/Documents/ab/.venv/lib/python3.12/site-packages/sklearn/linear_model/_logistic.py:1272: FutureWarning: 'multi_class' was deprecated in version 1.5 and will be removed in 1.7. From then on, it will always use 'multinomial'. Leave it to its default value to avoid this warning.\n",
      "  warnings.warn(\n",
      "/Users/206793281/Documents/ab/.venv/lib/python3.12/site-packages/sklearn/linear_model/_logistic.py:473: ConvergenceWarning: lbfgs failed to converge after 800 iteration(s) (status=1):\n",
      "STOP: TOTAL NO. OF ITERATIONS REACHED LIMIT\n",
      "\n",
      "Increase the number of iterations to improve the convergence (max_iter=800).\n",
      "You might also want to scale the data as shown in:\n",
      "    https://scikit-learn.org/stable/modules/preprocessing.html\n",
      "Please also refer to the documentation for alternative solver options:\n",
      "    https://scikit-learn.org/stable/modules/linear_model.html#logistic-regression\n",
      "  n_iter_i = _check_optimize_result(\n"
     ]
    },
    {
     "data": {
      "image/png": "[encoded data removed]",
      "text/plain": [
       "<Figure size 500x400 with 1 Axes>"
      ]
     },
     "metadata": {},
     "output_type": "display_data"
    }
   ],
   "source": [
    "# Baseline: Logistic Regression (multinomial), trained on SMOTE-resampled data\n",
    "log_reg = LogisticRegression(max_iter=800, multi_class='multinomial')\n",
    "log_reg.fit(X_train_res, y_train_res)\n",
    "f1_lr = evaluate_model('Logistic Regression', log_reg, X_test_enc, y_test)"
   ]
  },
  {
   "cell_type": "code",
   "execution_count": 9,
   "id": "4b271c78",
   "metadata": {},
   "outputs": [
    {
     "name": "stdout",
     "output_type": "stream",
     "text": [
      "\n",
      "=== Random Forest ===\n",
      "Macro F1: 0.9057\n",
      "              precision    recall  f1-score   support\n",
      "\n",
      "           0       0.95      0.90      0.92        60\n",
      "           1       0.85      0.87      0.86        60\n",
      "           2       0.92      0.95      0.93        60\n",
      "\n",
      "    accuracy                           0.91       180\n",
      "   macro avg       0.91      0.91      0.91       180\n",
      "weighted avg       0.91      0.91      0.91       180\n",
      "\n"
     ]
    },
    {
     "data": {
      "image/png": "[encoded data removed]",
      "text/plain": [
       "<Figure size 500x400 with 1 Axes>"
      ]
     },
     "metadata": {},
     "output_type": "display_data"
    }
   ],
   "source": [
    "rf = RandomForestClassifier(\n",
    "    n_estimators=300,\n",
    "    max_depth=None,\n",
    "    min_samples_split=2,\n",
    "    class_weight='balanced_subsample',\n",
    "    random_state=42\n",
    ")\n",
    "rf.fit(X_train_res, y_train_res)\n",
    "f1_rf = evaluate_model('Random Forest', rf, X_test_enc, y_test)"
   ]
  },
  {
   "cell_type": "code",
   "execution_count": 10,
   "id": "0dfbfc4f",
   "metadata": {},
   "outputs": [
    {
     "name": "stdout",
     "output_type": "stream",
     "text": [
      "\n",
      "=== XGBoost ===\n",
      "Macro F1: 0.9\n",
      "              precision    recall  f1-score   support\n",
      "\n",
      "           0       0.93      0.90      0.92        60\n",
      "           1       0.87      0.87      0.87        60\n",
      "           2       0.90      0.93      0.92        60\n",
      "\n",
      "    accuracy                           0.90       180\n",
      "   macro avg       0.90      0.90      0.90       180\n",
      "weighted avg       0.90      0.90      0.90       180\n",
      "\n"
     ]
    },
    {
     "data": {
      "image/png": "[encoded data removed]",
      "text/plain": [
       "<Figure size 500x400 with 1 Axes>"
      ]
     },
     "metadata": {},
     "output_type": "display_data"
    }
   ],
   "source": [
    "if HAS_XGB:\n",
    "    xgb = XGBClassifier(\n",
    "        objective='multi:softmax',\n",
    "        eval_metric='mlogloss',\n",
    "        num_class=3,\n",
    "        n_estimators=400,\n",
    "        learning_rate=0.1,\n",
    "        max_depth=5,\n",
    "        subsample=0.9,\n",
    "        colsample_bytree=0.9,\n",
    "        random_state=42\n",
    "    )\n",
    "    xgb.fit(X_train_res, y_train_res)\n",
    "    f1_xgb = evaluate_model('XGBoost', xgb, X_test_enc, y_test)\n",
    "else:\n",
    "    f1_xgb = None"
   ]
  },
  {
   "cell_type": "code",
   "execution_count": 11,
   "id": "7e5d7421",
   "metadata": {},
   "outputs": [
    {
     "name": "stdout",
     "output_type": "stream",
     "text": [
      "Best RF params: {'max_depth': None, 'min_samples_split': 5, 'n_estimators': 200}\n",
      "\n",
      "=== Random Forest (Tuned) ===\n",
      "Macro F1: 0.9115\n",
      "              precision    recall  f1-score   support\n",
      "\n",
      "           0       0.95      0.92      0.93        60\n",
      "           1       0.85      0.88      0.87        60\n",
      "           2       0.93      0.93      0.93        60\n",
      "\n",
      "    accuracy                           0.91       180\n",
      "   macro avg       0.91      0.91      0.91       180\n",
      "weighted avg       0.91      0.91      0.91       180\n",
      "\n"
     ]
    },
    {
     "data": {
      "image/png": "[encoded data removed]",
      "text/plain": [
       "<Figure size 500x400 with 1 Axes>"
      ]
     },
     "metadata": {},
     "output_type": "display_data"
    }
   ],
   "source": [
    "# Hyperparameter tuning (Random Forest) with macro F1\n",
    "param_grid = {\n",
    "    'n_estimators': [200, 400],\n",
    "    'max_depth': [None, 10, 20],\n",
    "    'min_samples_split': [2, 5]\n",
    "}\n",
    "\n",
    "grid = GridSearchCV(\n",
    "    RandomForestClassifier(class_weight='balanced_subsample', random_state=42),\n",
    "    param_grid,\n",
    "    cv=3,\n",
    "    scoring='f1_macro',\n",
    "    n_jobs=-1\n",
    ")\n",
    "\n",
    "grid.fit(X_train_res, y_train_res)\n",
    "best_rf = grid.best_estimator_\n",
    "print('Best RF params:', grid.best_params_)\n",
    "f1_rf_tuned = evaluate_model('Random Forest (Tuned)', best_rf, X_test_enc, y_test)"
   ]
  },
  {
   "cell_type": "code",
   "execution_count": 12,
   "id": "65e98ecb",
   "metadata": {},
   "outputs": [
    {
     "name": "stdout",
     "output_type": "stream",
     "text": [
      "\n",
      "Macro F1 comparison: {'LogReg': 0.8449661943132352, 'RF': 0.9056690949388416, 'RF_tuned': 0.9114630607267452, 'XGB': 0.8999845636133493}\n"
     ]
    }
   ],
   "source": [
    "# Compare macro F1s\n",
    "results = {'LogReg': f1_lr, 'RF': f1_rf, 'RF_tuned': f1_rf_tuned}\n",
    "if f1_xgb is not None:\n",
    "    results['XGB'] = f1_xgb\n",
    "print('\\nMacro F1 comparison:', results)"
   ]
  }
 ],
 "metadata": {
  "kernelspec": {
   "display_name": ".venv (3.12.9)",
   "language": "python",
   "name": "python3"
  },
  "language_info": {
   "codemirror_mode": {
    "name": "ipython",
    "version": 3
   },
   "file_extension": ".py",
   "mimetype": "text/x-python",
   "name": "python",
   "nbconvert_exporter": "python",
   "pygments_lexer": "ipython3",
   "version": "3.12.9"
  }
 },
 "nbformat": 4,
 "nbformat_minor": 5
}
