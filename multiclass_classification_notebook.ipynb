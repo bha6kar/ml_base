{
 "cells": [
  {
   "cell_type": "markdown",
   "id": "ce0ddb7f",
   "metadata": {},
   "source": [
    "# Multi-class Classification Example"
   ]
  },
  {
   "cell_type": "code",
   "execution_count": 1,
   "id": "6a07b14e",
   "metadata": {},
   "outputs": [
    {
     "name": "stdout",
     "output_type": "stream",
     "text": [
      "Dataset saved as sample_multiclass_data.csv\n"
     ]
    },
    {
     "data": {
      "text/html": [
       "<div>\n",
       "<style scoped>\n",
       "    .dataframe tbody tr th:only-of-type {\n",
       "        vertical-align: middle;\n",
       "    }\n",
       "\n",
       "    .dataframe tbody tr th {\n",
       "        vertical-align: top;\n",
       "    }\n",
       "\n",
       "    .dataframe thead th {\n",
       "        text-align: right;\n",
       "    }\n",
       "</style>\n",
       "<table border=\"1\" class=\"dataframe\">\n",
       "  <thead>\n",
       "    <tr style=\"text-align: right;\">\n",
       "      <th></th>\n",
       "      <th>id</th>\n",
       "      <th>age</th>\n",
       "      <th>income</th>\n",
       "      <th>gender</th>\n",
       "      <th>region</th>\n",
       "      <th>purchases</th>\n",
       "      <th>segment</th>\n",
       "    </tr>\n",
       "  </thead>\n",
       "  <tbody>\n",
       "    <tr>\n",
       "      <th>0</th>\n",
       "      <td>1</td>\n",
       "      <td>22</td>\n",
       "      <td>35786</td>\n",
       "      <td>Male</td>\n",
       "      <td>East</td>\n",
       "      <td>6</td>\n",
       "      <td>0</td>\n",
       "    </tr>\n",
       "    <tr>\n",
       "      <th>1</th>\n",
       "      <td>2</td>\n",
       "      <td>53</td>\n",
       "      <td>25058</td>\n",
       "      <td>Male</td>\n",
       "      <td>North</td>\n",
       "      <td>3</td>\n",
       "      <td>0</td>\n",
       "    </tr>\n",
       "    <tr>\n",
       "      <th>2</th>\n",
       "      <td>3</td>\n",
       "      <td>59</td>\n",
       "      <td>27323</td>\n",
       "      <td>Male</td>\n",
       "      <td>North</td>\n",
       "      <td>8</td>\n",
       "      <td>2</td>\n",
       "    </tr>\n",
       "    <tr>\n",
       "      <th>3</th>\n",
       "      <td>4</td>\n",
       "      <td>54</td>\n",
       "      <td>82560</td>\n",
       "      <td>Male</td>\n",
       "      <td>North</td>\n",
       "      <td>4</td>\n",
       "      <td>0</td>\n",
       "    </tr>\n",
       "    <tr>\n",
       "      <th>4</th>\n",
       "      <td>5</td>\n",
       "      <td>66</td>\n",
       "      <td>95015</td>\n",
       "      <td>Male</td>\n",
       "      <td>West</td>\n",
       "      <td>5</td>\n",
       "      <td>1</td>\n",
       "    </tr>\n",
       "  </tbody>\n",
       "</table>\n",
       "</div>"
      ],
      "text/plain": [
       "   id  age  income gender region  purchases  segment\n",
       "0   1   22   35786   Male   East          6        0\n",
       "1   2   53   25058   Male  North          3        0\n",
       "2   3   59   27323   Male  North          8        2\n",
       "3   4   54   82560   Male  North          4        0\n",
       "4   5   66   95015   Male   West          5        1"
      ]
     },
     "execution_count": 1,
     "metadata": {},
     "output_type": "execute_result"
    }
   ],
   "source": [
    "\n",
    "import pandas as pd\n",
    "import numpy as np\n",
    "from sklearn.model_selection import train_test_split\n",
    "from sklearn.preprocessing import LabelEncoder\n",
    "from sklearn.metrics import classification_report, confusion_matrix\n",
    "from xgboost import XGBClassifier\n",
    "import matplotlib.pyplot as plt\n",
    "import seaborn as sns\n",
    "\n",
    "# Generate synthetic dataset for multi-class classification\n",
    "n = 500\n",
    "df = pd.DataFrame(\n",
    "    {\n",
    "        \"id\": range(1, n + 1),\n",
    "        \"age\": np.random.randint(18, 70, n),\n",
    "        \"income\": np.random.randint(20000, 120000, n),\n",
    "        \"gender\": np.random.choice([\"Male\", \"Female\"], n),\n",
    "        \"region\": np.random.choice([\"North\", \"South\", \"East\", \"West\"], n),\n",
    "        \"purchases\": np.random.poisson(5, n),\n",
    "        \"segment\": np.random.choice([0, 1, 2], n, p=[0.4, 0.35, 0.25]),\n",
    "    }\n",
    ")\n",
    "\n",
    "# Save CSV file\n",
    "df.to_csv(\"sample_multiclass_data.csv\", index=False)\n",
    "print(\"Dataset saved as sample_multiclass_data.csv\")\n",
    "df.head()\n"
   ]
  },
  {
   "cell_type": "code",
   "execution_count": 2,
   "id": "b3e70fd5",
   "metadata": {},
   "outputs": [
    {
     "name": "stderr",
     "output_type": "stream",
     "text": [
      "/Users/206793281/Documents/ab/.venv/lib/python3.12/site-packages/xgboost/training.py:183: UserWarning: [09:54:07] WARNING: /Users/runner/work/xgboost/xgboost/src/learner.cc:738: \n",
      "Parameters: { \"use_label_encoder\" } are not used.\n",
      "\n",
      "  bst.update(dtrain, iteration=i, fobj=obj)\n"
     ]
    },
    {
     "name": "stdout",
     "output_type": "stream",
     "text": [
      "              precision    recall  f1-score   support\n",
      "\n",
      "           0       0.32      0.32      0.32        38\n",
      "           1       0.29      0.42      0.35        33\n",
      "           2       0.21      0.10      0.14        29\n",
      "\n",
      "    accuracy                           0.29       100\n",
      "   macro avg       0.27      0.28      0.27       100\n",
      "weighted avg       0.28      0.29      0.27       100\n",
      "\n"
     ]
    },
    {
     "data": {
      "image/png": "[encoded data removed]",
      "text/plain": [
       "<Figure size 640x480 with 2 Axes>"
      ]
     },
     "metadata": {},
     "output_type": "display_data"
    }
   ],
   "source": [
    "\n",
    "# Encode categorical variables\n",
    "df['gender'] = LabelEncoder().fit_transform(df['gender'])\n",
    "df['region'] = LabelEncoder().fit_transform(df['region'])\n",
    "\n",
    "X = df.drop(columns=[\"id\", \"segment\"])\n",
    "y = df[\"segment\"]\n",
    "\n",
    "# Train/test split\n",
    "X_train, X_test, y_train, y_test = train_test_split(X, y, test_size=0.2, random_state=42)\n",
    "\n",
    "# Train model\n",
    "model = XGBClassifier(use_label_encoder=False, eval_metric=\"mlogloss\", random_state=42)\n",
    "model.fit(X_train, y_train)\n",
    "\n",
    "# Predictions\n",
    "y_pred = model.predict(X_test)\n",
    "\n",
    "# Evaluation\n",
    "print(classification_report(y_test, y_pred))\n",
    "\n",
    "cm = confusion_matrix(y_test, y_pred)\n",
    "sns.heatmap(cm, annot=True, fmt=\"d\", cmap=\"Blues\")\n",
    "plt.xlabel(\"Predicted\")\n",
    "plt.ylabel(\"Actual\")\n",
    "plt.show()\n"
   ]
  }
 ],
 "metadata": {
  "kernelspec": {
   "display_name": ".venv (3.12.9)",
   "language": "python",
   "name": "python3"
  },
  "language_info": {
   "codemirror_mode": {
    "name": "ipython",
    "version": 3
   },
   "file_extension": ".py",
   "mimetype": "text/x-python",
   "name": "python",
   "nbconvert_exporter": "python",
   "pygments_lexer": "ipython3",
   "version": "3.12.9"
  }
 },
 "nbformat": 4,
 "nbformat_minor": 5
}
