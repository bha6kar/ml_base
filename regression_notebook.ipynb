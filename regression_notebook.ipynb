{
 "cells": [
  {
   "cell_type": "markdown",
   "id": "583530d7",
   "metadata": {},
   "source": [
    "# Regression Example"
   ]
  },
  {
   "cell_type": "code",
   "execution_count": 1,
   "id": "7e0fbce5",
   "metadata": {},
   "outputs": [
    {
     "name": "stdout",
     "output_type": "stream",
     "text": [
      "Dataset saved as sample_regression_data.csv\n"
     ]
    },
    {
     "data": {
      "text/html": [
       "<div>\n",
       "<style scoped>\n",
       "    .dataframe tbody tr th:only-of-type {\n",
       "        vertical-align: middle;\n",
       "    }\n",
       "\n",
       "    .dataframe tbody tr th {\n",
       "        vertical-align: top;\n",
       "    }\n",
       "\n",
       "    .dataframe thead th {\n",
       "        text-align: right;\n",
       "    }\n",
       "</style>\n",
       "<table border=\"1\" class=\"dataframe\">\n",
       "  <thead>\n",
       "    <tr style=\"text-align: right;\">\n",
       "      <th></th>\n",
       "      <th>id</th>\n",
       "      <th>age</th>\n",
       "      <th>income</th>\n",
       "      <th>gender</th>\n",
       "      <th>region</th>\n",
       "      <th>purchases</th>\n",
       "      <th>spend</th>\n",
       "    </tr>\n",
       "  </thead>\n",
       "  <tbody>\n",
       "    <tr>\n",
       "      <th>0</th>\n",
       "      <td>1</td>\n",
       "      <td>26</td>\n",
       "      <td>56377</td>\n",
       "      <td>Male</td>\n",
       "      <td>West</td>\n",
       "      <td>9</td>\n",
       "      <td>565.202100</td>\n",
       "    </tr>\n",
       "    <tr>\n",
       "      <th>1</th>\n",
       "      <td>2</td>\n",
       "      <td>22</td>\n",
       "      <td>33450</td>\n",
       "      <td>Female</td>\n",
       "      <td>North</td>\n",
       "      <td>7</td>\n",
       "      <td>277.970676</td>\n",
       "    </tr>\n",
       "    <tr>\n",
       "      <th>2</th>\n",
       "      <td>3</td>\n",
       "      <td>30</td>\n",
       "      <td>22141</td>\n",
       "      <td>Female</td>\n",
       "      <td>South</td>\n",
       "      <td>0</td>\n",
       "      <td>456.141660</td>\n",
       "    </tr>\n",
       "    <tr>\n",
       "      <th>3</th>\n",
       "      <td>4</td>\n",
       "      <td>56</td>\n",
       "      <td>82622</td>\n",
       "      <td>Male</td>\n",
       "      <td>East</td>\n",
       "      <td>6</td>\n",
       "      <td>5001.072922</td>\n",
       "    </tr>\n",
       "    <tr>\n",
       "      <th>4</th>\n",
       "      <td>5</td>\n",
       "      <td>61</td>\n",
       "      <td>46332</td>\n",
       "      <td>Male</td>\n",
       "      <td>East</td>\n",
       "      <td>7</td>\n",
       "      <td>1163.604463</td>\n",
       "    </tr>\n",
       "  </tbody>\n",
       "</table>\n",
       "</div>"
      ],
      "text/plain": [
       "   id  age  income  gender region  purchases        spend\n",
       "0   1   26   56377    Male   West          9   565.202100\n",
       "1   2   22   33450  Female  North          7   277.970676\n",
       "2   3   30   22141  Female  South          0   456.141660\n",
       "3   4   56   82622    Male   East          6  5001.072922\n",
       "4   5   61   46332    Male   East          7  1163.604463"
      ]
     },
     "execution_count": 1,
     "metadata": {},
     "output_type": "execute_result"
    }
   ],
   "source": [
    "\n",
    "import pandas as pd\n",
    "import numpy as np\n",
    "from sklearn.model_selection import train_test_split\n",
    "from sklearn.metrics import mean_squared_error, r2_score\n",
    "from xgboost import XGBRegressor\n",
    "import matplotlib.pyplot as plt\n",
    "\n",
    "# Generate synthetic dataset for regression\n",
    "n = 500\n",
    "df = pd.DataFrame(\n",
    "    {\n",
    "        \"id\": range(1, n + 1),\n",
    "        \"age\": np.random.randint(18, 70, n),\n",
    "        \"income\": np.random.randint(20000, 120000, n),\n",
    "        \"gender\": np.random.choice([\"Male\", \"Female\"], n),\n",
    "        \"region\": np.random.choice([\"North\", \"South\", \"East\", \"West\"], n),\n",
    "        \"purchases\": np.random.poisson(5, n),\n",
    "        \"spend\": np.random.randint(100, 5000, n) + np.random.randn(n) * 100,\n",
    "    }\n",
    ")\n",
    "\n",
    "# Save CSV file\n",
    "df.to_csv(\"sample_regression_data.csv\", index=False)\n",
    "print(\"Dataset saved as sample_regression_data.csv\")\n",
    "df.head()\n"
   ]
  },
  {
   "cell_type": "code",
   "execution_count": 2,
   "id": "99c37c0b",
   "metadata": {},
   "outputs": [
    {
     "name": "stdout",
     "output_type": "stream",
     "text": [
      "MSE: 3020432.2585485145\n",
      "R^2 Score: -0.578589162128283\n"
     ]
    },
    {
     "data": {
      "image/png": "[encoded data removed]",
      "text/plain": [
       "<Figure size 640x480 with 1 Axes>"
      ]
     },
     "metadata": {},
     "output_type": "display_data"
    }
   ],
   "source": [
    "\n",
    "# Encode categorical variables\n",
    "from sklearn.preprocessing import LabelEncoder\n",
    "\n",
    "df['gender'] = LabelEncoder().fit_transform(df['gender'])\n",
    "df['region'] = LabelEncoder().fit_transform(df['region'])\n",
    "\n",
    "X = df.drop(columns=[\"id\", \"spend\"])\n",
    "y = df[\"spend\"]\n",
    "\n",
    "# Train/test split\n",
    "X_train, X_test, y_train, y_test = train_test_split(X, y, test_size=0.2, random_state=42)\n",
    "\n",
    "# Train model\n",
    "model = XGBRegressor(random_state=42)\n",
    "model.fit(X_train, y_train)\n",
    "\n",
    "# Predictions\n",
    "y_pred = model.predict(X_test)\n",
    "\n",
    "# Evaluation\n",
    "print(\"MSE:\", mean_squared_error(y_test, y_pred))\n",
    "print(\"R^2 Score:\", r2_score(y_test, y_pred))\n",
    "\n",
    "# Plot actual vs predicted\n",
    "plt.scatter(y_test, y_pred, alpha=0.6)\n",
    "plt.xlabel(\"Actual Spend\")\n",
    "plt.ylabel(\"Predicted Spend\")\n",
    "plt.title(\"Actual vs Predicted Spend\")\n",
    "plt.show()\n"
   ]
  }
 ],
 "metadata": {
  "kernelspec": {
   "display_name": ".venv (3.12.9)",
   "language": "python",
   "name": "python3"
  },
  "language_info": {
   "codemirror_mode": {
    "name": "ipython",
    "version": 3
   },
   "file_extension": ".py",
   "mimetype": "text/x-python",
   "name": "python",
   "nbconvert_exporter": "python",
   "pygments_lexer": "ipython3",
   "version": "3.12.9"
  }
 },
 "nbformat": 4,
 "nbformat_minor": 5
}
